{
 "cells": [
  {
   "cell_type": "markdown",
   "id": "55c4723f-6cdd-4731-a667-844e9d708fe6",
   "metadata": {},
   "source": [
    "# Data Science Tools and Ecosystem"
   ]
  },
  {
   "cell_type": "markdown",
   "id": "d9337f3f-db68-4b4e-8f3c-cf55fe06a214",
   "metadata": {},
   "source": [
    "In this notebook, Data Science Tools and Ecosystem are summarized."
   ]
  },
  {
   "cell_type": "markdown",
   "id": "1af34a9c-62e1-4f8f-baeb-05d9b847eba5",
   "metadata": {},
   "source": [
    "Some of the popular languages that Data Scientists use are:\n",
    "1. Python\n",
    "2. R\n",
    "3. Julia\n",
    "4. Swift"
   ]
  },
  {
   "cell_type": "markdown",
   "id": "3692201c-4272-471f-b0b3-862d47d3391e",
   "metadata": {},
   "source": [
    "Some of the commonly used libraries used by Data Scientists include:\n",
    "1. Pandas\n",
    "2. NumPy\n",
    "3. Matplotlib\n",
    "4. Seaborn\n",
    "5. scikit learn\n",
    "6. dplyr\n",
    "7. stringr\n",
    "8. ggplot\n",
    "9. caret"
   ]
  },
  {
   "cell_type": "markdown",
   "id": "08d5d89f-2e2d-4cdc-95fb-d63b325662a4",
   "metadata": {},
   "source": [
    "|Data Science|\n",
    "---\n",
    "|Jupyter Notebooks|\n",
    "|RStudio|\n",
    "|Zeeplin Notebooks|\n"
   ]
  },
  {
   "cell_type": "markdown",
   "id": "f3cce3be-db5f-4732-bc19-102546152a5f",
   "metadata": {},
   "source": [
    "### Below are a few examples of evaluating arithmetic expressions in Python"
   ]
  },
  {
   "cell_type": "code",
   "execution_count": null,
   "id": "e27f4cc1-2467-4dda-9bb1-455182473a64",
   "metadata": {},
   "outputs": [],
   "source": []
  }
 ],
 "metadata": {
  "kernelspec": {
   "display_name": "Python",
   "language": "python",
   "name": "conda-env-python-py"
  },
  "language_info": {
   "codemirror_mode": {
    "name": "ipython",
    "version": 3
   },
   "file_extension": ".py",
   "mimetype": "text/x-python",
   "name": "python",
   "nbconvert_exporter": "python",
   "pygments_lexer": "ipython3",
   "version": "3.7.12"
  }
 },
 "nbformat": 4,
 "nbformat_minor": 5
}
